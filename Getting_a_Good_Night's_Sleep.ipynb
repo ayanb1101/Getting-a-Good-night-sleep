{
  "cells": [
    {
      "cell_type": "markdown",
      "metadata": {
        "id": "view-in-github",
        "colab_type": "text"
      },
      "source": [
        "<a href=\"https://colab.research.google.com/github/ayanb1101/Getting-a-Good-night-sleep/blob/main/Getting_a_Good_Night's_Sleep.ipynb\" target=\"_parent\"><img src=\"https://colab.research.google.com/assets/colab-badge.svg\" alt=\"Open In Colab\"/></a>"
      ]
    },
    {
      "source": [
        "![insomnia](insomnia.jpg)\n"
      ],
      "metadata": {
        "id": "fe7ecb8d-ad0b-40c0-b404-8b4c339d1c8b"
      },
      "id": "fe7ecb8d-ad0b-40c0-b404-8b4c339d1c8b",
      "cell_type": "markdown"
    },
    {
      "source": [
        "Your client, SleepInc, has shared anonymized sleep data from their hot new sleep tracking app SleepScope. As their data science consultant, your mission is to analyze the lifestyle survey data with Python to discover relationships between exercise, gender, occupation, and sleep quality. See if you can identify patterns leading to insights on sleep quality.\n",
        "\n",
        "## 💾 The data: sleep_health_data.csv\n",
        "\n",
        "SleepInc has provided you with an anonymized dataset of sleep and lifestyle metrics for 374 individuals. This dataset contains average values for each person calculated over the past six months. The data is saved as `sleep_health_data.csv`.\n",
        "\n",
        "The dataset includes 13 columns covering sleep duration, quality, disorders, exercise, stress, diet, demographics, and other factors related to sleep health.\n",
        "\n",
        "| Column | Description |\n",
        "|---------|----------------------------------------|  \n",
        "| `Person ID` | An identifier for each individual. |\n",
        "| `Gender` | The gender of the person (Male/Female). |  \n",
        "| `Age` | The age of the person in years. |\n",
        "| `Occupation` | The occupation or profession of the person. |\n",
        "| `Sleep Duration (hours)` | The average number of hours the person sleeps per day. |\n",
        "| `Quality of Sleep (scale: 1-10)` | A subjective rating of the quality of sleep, ranging from 1 to 10. |\n",
        "| `Physical Activity Level (minutes/day)` | The average number of minutes the person engages in physical activity daily. |  \n",
        "| `Stress Level (scale: 1-10)` | A subjective rating of the stress level experienced by the person, ranging from 1 to 10. |\n",
        "| `BMI Category` | The BMI category of the person (e.g., Underweight, Normal, Overweight). |\n",
        "| `Blood Pressure (systolic/diastolic)` | The average blood pressure measurement of the person, indicated as systolic pressure over diastolic pressure. |\n",
        "| `Heart Rate (bpm)` | The average resting heart rate of the person in beats per minute. |\n",
        "| `Daily Steps` | The average number of steps the person takes per day. |\n",
        "| `Sleep Disorder` | The presence or absence of a sleep disorder in the person (None, Insomnia, Sleep Apnea). |"
      ],
      "metadata": {
        "id": "04929432-e076-40ef-b2a7-8e67dc7ba1a3"
      },
      "id": "04929432-e076-40ef-b2a7-8e67dc7ba1a3",
      "cell_type": "markdown"
    },
    {
      "source": [
        "# Start coding here\n",
        "# Use as many cells as you need\n",
        "import pandas as pd"
      ],
      "metadata": {
        "executionCancelledAt": null,
        "executionTime": 45,
        "lastExecutedAt": 1733637891055,
        "lastScheduledRunId": null,
        "lastSuccessfullyExecutedCode": "# Start coding here\n# Use as many cells as you need\nimport pandas as pd\nimport numpy as np\nimport matplotlib.pyplot as plt",
        "lastExecutedByKernel": "c5feb999-11de-4d4a-aa54-4d3229d47a55",
        "id": "a622f61f-54d5-468a-83b6-41f0ff404278"
      },
      "id": "a622f61f-54d5-468a-83b6-41f0ff404278",
      "cell_type": "code",
      "execution_count": 5,
      "outputs": []
    },
    {
      "cell_type": "code",
      "source": [
        "# from google.colab import files\n",
        "# uploaded = files.upload()"
      ],
      "metadata": {
        "colab": {
          "base_uri": "https://localhost:8080/",
          "height": 38
        },
        "id": "n6t_i9Zs6tpy",
        "outputId": "aba22656-2c6a-4825-a98a-de14b457ddcd"
      },
      "id": "n6t_i9Zs6tpy",
      "execution_count": 6,
      "outputs": [
        {
          "output_type": "display_data",
          "data": {
            "text/plain": [
              "<IPython.core.display.HTML object>"
            ],
            "text/html": [
              "\n",
              "     <input type=\"file\" id=\"files-bfe959eb-6958-43c2-8cd5-0baafc856dc1\" name=\"files[]\" multiple disabled\n",
              "        style=\"border:none\" />\n",
              "     <output id=\"result-bfe959eb-6958-43c2-8cd5-0baafc856dc1\">\n",
              "      Upload widget is only available when the cell has been executed in the\n",
              "      current browser session. Please rerun this cell to enable.\n",
              "      </output>\n",
              "      <script>// Copyright 2017 Google LLC\n",
              "//\n",
              "// Licensed under the Apache License, Version 2.0 (the \"License\");\n",
              "// you may not use this file except in compliance with the License.\n",
              "// You may obtain a copy of the License at\n",
              "//\n",
              "//      http://www.apache.org/licenses/LICENSE-2.0\n",
              "//\n",
              "// Unless required by applicable law or agreed to in writing, software\n",
              "// distributed under the License is distributed on an \"AS IS\" BASIS,\n",
              "// WITHOUT WARRANTIES OR CONDITIONS OF ANY KIND, either express or implied.\n",
              "// See the License for the specific language governing permissions and\n",
              "// limitations under the License.\n",
              "\n",
              "/**\n",
              " * @fileoverview Helpers for google.colab Python module.\n",
              " */\n",
              "(function(scope) {\n",
              "function span(text, styleAttributes = {}) {\n",
              "  const element = document.createElement('span');\n",
              "  element.textContent = text;\n",
              "  for (const key of Object.keys(styleAttributes)) {\n",
              "    element.style[key] = styleAttributes[key];\n",
              "  }\n",
              "  return element;\n",
              "}\n",
              "\n",
              "// Max number of bytes which will be uploaded at a time.\n",
              "const MAX_PAYLOAD_SIZE = 100 * 1024;\n",
              "\n",
              "function _uploadFiles(inputId, outputId) {\n",
              "  const steps = uploadFilesStep(inputId, outputId);\n",
              "  const outputElement = document.getElementById(outputId);\n",
              "  // Cache steps on the outputElement to make it available for the next call\n",
              "  // to uploadFilesContinue from Python.\n",
              "  outputElement.steps = steps;\n",
              "\n",
              "  return _uploadFilesContinue(outputId);\n",
              "}\n",
              "\n",
              "// This is roughly an async generator (not supported in the browser yet),\n",
              "// where there are multiple asynchronous steps and the Python side is going\n",
              "// to poll for completion of each step.\n",
              "// This uses a Promise to block the python side on completion of each step,\n",
              "// then passes the result of the previous step as the input to the next step.\n",
              "function _uploadFilesContinue(outputId) {\n",
              "  const outputElement = document.getElementById(outputId);\n",
              "  const steps = outputElement.steps;\n",
              "\n",
              "  const next = steps.next(outputElement.lastPromiseValue);\n",
              "  return Promise.resolve(next.value.promise).then((value) => {\n",
              "    // Cache the last promise value to make it available to the next\n",
              "    // step of the generator.\n",
              "    outputElement.lastPromiseValue = value;\n",
              "    return next.value.response;\n",
              "  });\n",
              "}\n",
              "\n",
              "/**\n",
              " * Generator function which is called between each async step of the upload\n",
              " * process.\n",
              " * @param {string} inputId Element ID of the input file picker element.\n",
              " * @param {string} outputId Element ID of the output display.\n",
              " * @return {!Iterable<!Object>} Iterable of next steps.\n",
              " */\n",
              "function* uploadFilesStep(inputId, outputId) {\n",
              "  const inputElement = document.getElementById(inputId);\n",
              "  inputElement.disabled = false;\n",
              "\n",
              "  const outputElement = document.getElementById(outputId);\n",
              "  outputElement.innerHTML = '';\n",
              "\n",
              "  const pickedPromise = new Promise((resolve) => {\n",
              "    inputElement.addEventListener('change', (e) => {\n",
              "      resolve(e.target.files);\n",
              "    });\n",
              "  });\n",
              "\n",
              "  const cancel = document.createElement('button');\n",
              "  inputElement.parentElement.appendChild(cancel);\n",
              "  cancel.textContent = 'Cancel upload';\n",
              "  const cancelPromise = new Promise((resolve) => {\n",
              "    cancel.onclick = () => {\n",
              "      resolve(null);\n",
              "    };\n",
              "  });\n",
              "\n",
              "  // Wait for the user to pick the files.\n",
              "  const files = yield {\n",
              "    promise: Promise.race([pickedPromise, cancelPromise]),\n",
              "    response: {\n",
              "      action: 'starting',\n",
              "    }\n",
              "  };\n",
              "\n",
              "  cancel.remove();\n",
              "\n",
              "  // Disable the input element since further picks are not allowed.\n",
              "  inputElement.disabled = true;\n",
              "\n",
              "  if (!files) {\n",
              "    return {\n",
              "      response: {\n",
              "        action: 'complete',\n",
              "      }\n",
              "    };\n",
              "  }\n",
              "\n",
              "  for (const file of files) {\n",
              "    const li = document.createElement('li');\n",
              "    li.append(span(file.name, {fontWeight: 'bold'}));\n",
              "    li.append(span(\n",
              "        `(${file.type || 'n/a'}) - ${file.size} bytes, ` +\n",
              "        `last modified: ${\n",
              "            file.lastModifiedDate ? file.lastModifiedDate.toLocaleDateString() :\n",
              "                                    'n/a'} - `));\n",
              "    const percent = span('0% done');\n",
              "    li.appendChild(percent);\n",
              "\n",
              "    outputElement.appendChild(li);\n",
              "\n",
              "    const fileDataPromise = new Promise((resolve) => {\n",
              "      const reader = new FileReader();\n",
              "      reader.onload = (e) => {\n",
              "        resolve(e.target.result);\n",
              "      };\n",
              "      reader.readAsArrayBuffer(file);\n",
              "    });\n",
              "    // Wait for the data to be ready.\n",
              "    let fileData = yield {\n",
              "      promise: fileDataPromise,\n",
              "      response: {\n",
              "        action: 'continue',\n",
              "      }\n",
              "    };\n",
              "\n",
              "    // Use a chunked sending to avoid message size limits. See b/62115660.\n",
              "    let position = 0;\n",
              "    do {\n",
              "      const length = Math.min(fileData.byteLength - position, MAX_PAYLOAD_SIZE);\n",
              "      const chunk = new Uint8Array(fileData, position, length);\n",
              "      position += length;\n",
              "\n",
              "      const base64 = btoa(String.fromCharCode.apply(null, chunk));\n",
              "      yield {\n",
              "        response: {\n",
              "          action: 'append',\n",
              "          file: file.name,\n",
              "          data: base64,\n",
              "        },\n",
              "      };\n",
              "\n",
              "      let percentDone = fileData.byteLength === 0 ?\n",
              "          100 :\n",
              "          Math.round((position / fileData.byteLength) * 100);\n",
              "      percent.textContent = `${percentDone}% done`;\n",
              "\n",
              "    } while (position < fileData.byteLength);\n",
              "  }\n",
              "\n",
              "  // All done.\n",
              "  yield {\n",
              "    response: {\n",
              "      action: 'complete',\n",
              "    }\n",
              "  };\n",
              "}\n",
              "\n",
              "scope.google = scope.google || {};\n",
              "scope.google.colab = scope.google.colab || {};\n",
              "scope.google.colab._files = {\n",
              "  _uploadFiles,\n",
              "  _uploadFilesContinue,\n",
              "};\n",
              "})(self);\n",
              "</script> "
            ]
          },
          "metadata": {}
        }
      ]
    },
    {
      "source": [
        "Sleep_Data = pd.read_csv(\"sleep_health_data.csv\")\n",
        "print(Sleep_Data.head())"
      ],
      "metadata": {
        "executionCancelledAt": null,
        "executionTime": 52,
        "lastExecutedAt": 1733637891107,
        "lastExecutedByKernel": "c5feb999-11de-4d4a-aa54-4d3229d47a55",
        "lastScheduledRunId": null,
        "lastSuccessfullyExecutedCode": "Sleep_Data = pd.read_csv(\"sleep_health_data.csv\")\nprint(Sleep_Data.head())",
        "outputsMetadata": {
          "0": {
            "height": 185,
            "type": "stream"
          }
        },
        "colab": {
          "base_uri": "https://localhost:8080/"
        },
        "id": "f006ad27-df36-4a44-ba18-e1f8a6a497bc",
        "outputId": "1c091f67-7c4e-4ba6-bc53-0f280e96a962"
      },
      "cell_type": "code",
      "id": "f006ad27-df36-4a44-ba18-e1f8a6a497bc",
      "outputs": [
        {
          "output_type": "stream",
          "name": "stdout",
          "text": [
            "   Person ID Gender  Age            Occupation  Sleep Duration  \\\n",
            "0          1   Male   27     Software Engineer             6.1   \n",
            "1          2   Male   28                Doctor             6.2   \n",
            "2          3   Male   28                Doctor             6.2   \n",
            "3          4   Male   28  Sales Representative             5.9   \n",
            "4          5   Male   28  Sales Representative             5.9   \n",
            "\n",
            "   Quality of Sleep  Physical Activity Level  Stress Level BMI Category  \\\n",
            "0                 6                       42             6   Overweight   \n",
            "1                 6                       60             8       Normal   \n",
            "2                 6                       60             8       Normal   \n",
            "3                 4                       30             8        Obese   \n",
            "4                 4                       30             8        Obese   \n",
            "\n",
            "  Blood Pressure  Heart Rate  Daily Steps Sleep Disorder  \n",
            "0         126/83          77         4200            NaN  \n",
            "1         125/80          75        10000            NaN  \n",
            "2         125/80          75        10000            NaN  \n",
            "3         140/90          85         3000    Sleep Apnea  \n",
            "4         140/90          85         3000    Sleep Apnea  \n"
          ]
        }
      ],
      "execution_count": 7
    },
    {
      "source": [
        "#Check if NULL exists\n",
        "print(Sleep_Data.isna().any())"
      ],
      "metadata": {
        "executionCancelledAt": null,
        "executionTime": 47,
        "lastExecutedAt": 1733637891155,
        "lastExecutedByKernel": "c5feb999-11de-4d4a-aa54-4d3229d47a55",
        "lastScheduledRunId": null,
        "lastSuccessfullyExecutedCode": "#Check if NULL exists\nprint(Sleep_Data.isna().any())",
        "outputsMetadata": {
          "0": {
            "height": 311,
            "type": "stream"
          }
        },
        "colab": {
          "base_uri": "https://localhost:8080/"
        },
        "id": "f99e58b9-a679-41f0-a4a7-f5a0a15818ca",
        "outputId": "ce3ce919-1f44-42dc-f87d-9c580d0617f7"
      },
      "cell_type": "code",
      "id": "f99e58b9-a679-41f0-a4a7-f5a0a15818ca",
      "outputs": [
        {
          "output_type": "stream",
          "name": "stdout",
          "text": [
            "Person ID                  False\n",
            "Gender                     False\n",
            "Age                        False\n",
            "Occupation                 False\n",
            "Sleep Duration             False\n",
            "Quality of Sleep           False\n",
            "Physical Activity Level    False\n",
            "Stress Level               False\n",
            "BMI Category               False\n",
            "Blood Pressure             False\n",
            "Heart Rate                 False\n",
            "Daily Steps                False\n",
            "Sleep Disorder              True\n",
            "dtype: bool\n"
          ]
        }
      ],
      "execution_count": 8
    },
    {
      "source": [
        "#Task 1 -- Which occupation has the lowest sleep duration\n",
        "grouped_occ = Sleep_Data.groupby(\"Occupation\")[\"Sleep Duration\"].mean()\n",
        "lowest_sleep_occ = grouped_occ.idxmin()\n",
        "# sorted_grouped_occ = grouped_occ.sort_values(\"Sleep Duration\")\n",
        "print(grouped_occ)\n",
        "print(lowest_sleep_occ)"
      ],
      "metadata": {
        "executionCancelledAt": null,
        "executionTime": 48,
        "lastExecutedAt": 1733637891204,
        "lastExecutedByKernel": "c5feb999-11de-4d4a-aa54-4d3229d47a55",
        "lastScheduledRunId": null,
        "lastSuccessfullyExecutedCode": "#Task 1 -- Which occupation has the lowest sleep duration\ngrouped_occ = Sleep_Data.groupby(\"Occupation\")[\"Sleep Duration\"].mean()\nlowest_sleep_occ = grouped_occ.idxmin()\n# sorted_grouped_occ = grouped_occ.sort_values(\"Sleep Duration\")\nprint(grouped_occ)\nprint(lowest_sleep_occ)",
        "outputsMetadata": {
          "0": {
            "height": 311,
            "type": "stream"
          }
        },
        "colab": {
          "base_uri": "https://localhost:8080/"
        },
        "id": "77d7f58c-1a1e-4f4e-9faa-077b1eea6a4d",
        "outputId": "5b4a4535-541d-4dae-8847-086f613abde1"
      },
      "cell_type": "code",
      "id": "77d7f58c-1a1e-4f4e-9faa-077b1eea6a4d",
      "outputs": [
        {
          "output_type": "stream",
          "name": "stdout",
          "text": [
            "Occupation\n",
            "Accountant              7.113514\n",
            "Doctor                  6.970423\n",
            "Engineer                7.987302\n",
            "Lawyer                  7.410638\n",
            "Manager                 6.900000\n",
            "Nurse                   7.063014\n",
            "Sales Representative    5.900000\n",
            "Salesperson             6.403125\n",
            "Scientist               6.000000\n",
            "Software Engineer       6.750000\n",
            "Teacher                 6.690000\n",
            "Name: Sleep Duration, dtype: float64\n",
            "Sales Representative\n"
          ]
        }
      ],
      "execution_count": 9
    },
    {
      "source": [
        "Task 2: Which occupation has the lowest sleep quality. Did the occupation with the lowest sleep duration also have the lowest sleep quality?"
      ],
      "metadata": {
        "id": "ef9f3057-ef90-4524-92cd-820aa8a8f1eb"
      },
      "cell_type": "markdown",
      "id": "ef9f3057-ef90-4524-92cd-820aa8a8f1eb"
    },
    {
      "source": [
        "grouped_occ_quality = Sleep_Data.groupby(\"Occupation\")[\"Quality of Sleep\"].mean()\n",
        "lowest_sleep_quality_occ = grouped_occ_quality.idxmin()\n",
        "print(grouped_occ_quality)\n",
        "print(lowest_sleep_quality_occ)"
      ],
      "metadata": {
        "executionCancelledAt": null,
        "executionTime": 52,
        "lastExecutedAt": 1733637891256,
        "lastExecutedByKernel": "c5feb999-11de-4d4a-aa54-4d3229d47a55",
        "lastScheduledRunId": null,
        "lastSuccessfullyExecutedCode": "grouped_occ_quality = Sleep_Data.groupby(\"Occupation\")[\"Quality of Sleep\"].mean()\nlowest_sleep_quality_occ = grouped_occ_quality.idxmin()\nprint(grouped_occ_quality)\nprint(lowest_sleep_quality_occ)",
        "outputsMetadata": {
          "0": {
            "height": 311,
            "type": "stream"
          }
        },
        "colab": {
          "base_uri": "https://localhost:8080/"
        },
        "id": "599824a4-7794-4ba5-b84e-499f5a6dca09",
        "outputId": "658ff6c7-db47-4de3-adf1-2ad19291e445"
      },
      "cell_type": "code",
      "id": "599824a4-7794-4ba5-b84e-499f5a6dca09",
      "outputs": [
        {
          "output_type": "stream",
          "name": "stdout",
          "text": [
            "Occupation\n",
            "Accountant              7.891892\n",
            "Doctor                  6.647887\n",
            "Engineer                8.412698\n",
            "Lawyer                  7.893617\n",
            "Manager                 7.000000\n",
            "Nurse                   7.369863\n",
            "Sales Representative    4.000000\n",
            "Salesperson             6.000000\n",
            "Scientist               5.000000\n",
            "Software Engineer       6.500000\n",
            "Teacher                 6.975000\n",
            "Name: Quality of Sleep, dtype: float64\n",
            "Sales Representative\n"
          ]
        }
      ],
      "execution_count": 10
    },
    {
      "source": [
        "#If so assign a boolean value to variable same_occ variable, True if it is the same occupation, and False if it isn't.\n",
        "same_occ = lowest_sleep_occ == lowest_sleep_quality_occ\n",
        "print(same_occ)"
      ],
      "metadata": {
        "executionCancelledAt": null,
        "executionTime": 47,
        "lastExecutedAt": 1733637891303,
        "lastExecutedByKernel": "c5feb999-11de-4d4a-aa54-4d3229d47a55",
        "lastScheduledRunId": null,
        "lastSuccessfullyExecutedCode": "#If so assign a boolean value to variable same_occ variable, True if it is the same occupation, and False if it isn't.\nsame_occ = lowest_sleep_occ == lowest_sleep_quality_occ\nprint(same_occ)",
        "outputsMetadata": {
          "0": {
            "height": 38,
            "type": "stream"
          }
        },
        "colab": {
          "base_uri": "https://localhost:8080/"
        },
        "id": "113dbe36-2158-4dbc-ad8e-7cff3d2a77cd",
        "outputId": "ac5be109-ddef-4352-b929-fdf18e6fa80a"
      },
      "cell_type": "code",
      "id": "113dbe36-2158-4dbc-ad8e-7cff3d2a77cd",
      "outputs": [
        {
          "output_type": "stream",
          "name": "stdout",
          "text": [
            "True\n"
          ]
        }
      ],
      "execution_count": 11
    },
    {
      "source": [
        "Task 3: what ratio of app users in each BMI Category have been diagnosed with Insomnia."
      ],
      "metadata": {
        "id": "d5d8a2af-8ba7-4767-9831-210f12a5021a"
      },
      "cell_type": "markdown",
      "id": "d5d8a2af-8ba7-4767-9831-210f12a5021a"
    },
    {
      "source": [
        "# Normal Insomnia\n",
        "normal_insomnia = Sleep_Data[(Sleep_Data[\"BMI Category\"] == \"Normal\") & (Sleep_Data[\"Sleep Disorder\"] == \"Insomnia\")]\n",
        "\n",
        "#Overweight Insomnia\n",
        "overwt_insomnia = Sleep_Data[(Sleep_Data[\"BMI Category\"] == \"Overweight\") & (Sleep_Data[\"Sleep Disorder\"] == \"Insomnia\")]\n",
        "\n",
        "# Obese Insomnia\n",
        "obese_insomnia = Sleep_Data[(Sleep_Data[\"BMI Category\"] == \"Obese\") & (Sleep_Data[\"Sleep Disorder\"] == \"Insomnia\")]\n",
        "\n",
        "bmi_insomnia_ratios = {\n",
        "    \"Normal\": round(len(normal_insomnia)/len(Sleep_Data[Sleep_Data[\"BMI Category\"] == \"Normal\"]), 2),\n",
        "    \"Overweight\": round(len(overwt_insomnia)/len(Sleep_Data[Sleep_Data[\"BMI Category\"] == \"Overweight\"]), 2),\n",
        "    \"Obese\": round(len(obese_insomnia)/len(Sleep_Data[Sleep_Data[\"BMI Category\"] == \"Obese\"]), 2)\n",
        "}\n",
        "\n",
        "print(bmi_insomnia_ratios)"
      ],
      "metadata": {
        "executionCancelledAt": null,
        "executionTime": 52,
        "lastExecutedAt": 1733637891356,
        "lastExecutedByKernel": "c5feb999-11de-4d4a-aa54-4d3229d47a55",
        "lastScheduledRunId": null,
        "lastSuccessfullyExecutedCode": "# Normal Insomnia\nnormal_insomnia = Sleep_Data[(Sleep_Data[\"BMI Category\"] == \"Normal\") & (Sleep_Data[\"Sleep Disorder\"] == \"Insomnia\")]\n\n#Overweight Insomnia\noverwt_insomnia = Sleep_Data[(Sleep_Data[\"BMI Category\"] == \"Overweight\") & (Sleep_Data[\"Sleep Disorder\"] == \"Insomnia\")]\n\n# Obese Insomnia\nobese_insomnia = Sleep_Data[(Sleep_Data[\"BMI Category\"] == \"Obese\") & (Sleep_Data[\"Sleep Disorder\"] == \"Insomnia\")]\n\n# Total bmi category count for each category\ntotal_normal = len(Sleep_Data[Sleep_Data[\"BMI Category\"] == \"Normal\"])\ntotal_overwt = len(Sleep_Data[Sleep_Data[\"BMI Category\"] == \"Overweight\"])\ntotal_obese = len(Sleep_Data[Sleep_Data[\"BMI Category\"] == \"Obese\"])\nratio_normal = len(normal_insomnia)/total_normal\nratio_overwt = len(overwt_insomnia)/total_overwt\nratio_obese = len(obese_insomnia)/total_obese\nbmi_insomnia_ratios = {\n    \"Normal\": round(ratio_normal, 2),\n    \"Overweight\": round(ratio_overwt, 2),\n    \"Obese\": round(ratio_obese, 2)\n}\n\nprint(bmi_insomnia_ratios)",
        "outputsMetadata": {
          "0": {
            "height": 38,
            "type": "stream"
          }
        },
        "colab": {
          "base_uri": "https://localhost:8080/"
        },
        "id": "16573a46-934b-4dee-af58-28ef6aa05145",
        "outputId": "ab86647d-40ba-4dd6-e701-75dccdb6cee9"
      },
      "cell_type": "code",
      "id": "16573a46-934b-4dee-af58-28ef6aa05145",
      "outputs": [
        {
          "output_type": "stream",
          "name": "stdout",
          "text": [
            "{'Normal': 0.04, 'Overweight': 0.43, 'Obese': 0.4}\n"
          ]
        }
      ],
      "execution_count": 13
    }
  ],
  "metadata": {
    "colab": {
      "provenance": [],
      "include_colab_link": true
    },
    "kernelspec": {
      "display_name": "Python 3 (ipykernel)",
      "language": "python",
      "name": "python3"
    },
    "language_info": {
      "codemirror_mode": {
        "name": "ipython",
        "version": 3
      },
      "file_extension": ".py",
      "mimetype": "text/x-python",
      "name": "python",
      "nbconvert_exporter": "python",
      "pygments_lexer": "ipython3",
      "version": "3.8.10"
    }
  },
  "nbformat": 4,
  "nbformat_minor": 5
}